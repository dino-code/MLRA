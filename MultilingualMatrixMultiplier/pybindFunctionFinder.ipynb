{
 "cells": [
  {
   "cell_type": "code",
   "execution_count": 328,
   "metadata": {},
   "outputs": [],
   "source": [
    "import os\n",
    "import sys"
   ]
  },
  {
   "cell_type": "code",
   "execution_count": 329,
   "metadata": {},
   "outputs": [],
   "source": [
    "# creates a dictionary with cpp files as keys and their paths as values\n",
    "def fileFinder(path):\n",
    "    fileDict = {}\n",
    "    for dirpath, dirname, filename in os.walk(path):\n",
    "        for z in filename:\n",
    "            if '.cpp' in str(z):\n",
    "                 fileDict[str(z)] = str(dirpath)\n",
    "    \n",
    "    return fileDict\n",
    "\n",
    "# takes dict made in fileFinder() and searches each cpp file for PYBIND MODULE functions created.\n",
    "def functionFinder(fileDict): \n",
    "    mdefList = []\n",
    "    returnList = []\n",
    "    \n",
    "    for fileName in fileDict:\n",
    "        fileObject = open(fileDict[fileName]+'/'+fileName, 'r') \n",
    "        fileText = fileObject.read()\n",
    "        fileObject.close()\n",
    "        \n",
    "        if 'PYBIND11' in fileText:\n",
    "            startIndex = fileText.find('m.def(')\n",
    "            \n",
    "            while(startIndex != -1):    \n",
    "                endIndex = fileText.find(')', startIndex)\n",
    "                mdefList.append(fileText[startIndex:endIndex+1])\n",
    "                startIndex = fileText.find('m.def(', startIndex+5)\n",
    "\n",
    "    returnList = mdefCleaner(mdefList)\n",
    "    \n",
    "    return returnList\n",
    "\n",
    "# cleans list of mdef findings in functionFinder(fileDict)\n",
    "def mdefCleaner(mdefList):\n",
    "    newList = []\n",
    "    for func in mdefList:\n",
    "        startIndex = func.find(\"\\\"\")\n",
    "        endIndex = func.find(\"\\\"\", startIndex+1)\n",
    "        \n",
    "        newList.append(func[startIndex+1:endIndex] + '(')\n",
    "    \n",
    "    return newList\n",
    "\n",
    "# Will be a problem here if there are multiple trigger files\n",
    "def triggerFinder(path):\n",
    "    dirFiles = os.listdir(path)\n",
    "    \n",
    "    for file in dirFiles:\n",
    "        if 'pyt' in file:\n",
    "            trigger = file\n",
    "        \n",
    "    return trigger\n",
    "\n",
    "\n",
    "def sinkWriter(functionNameList, path):\n",
    "    trigger = triggerFinder(path)\n",
    "    wordsPresent = 0\n",
    "    \n",
    "    # Create fileText string which contains all text from original trigger file\n",
    "    fileObject = open(trigger, 'r') \n",
    "    fileText = fileObject.read()\n",
    "    fileObject.close()\n",
    "    \n",
    "    # Edit fileText by adding new sinks\n",
    "    startIndex = fileText.find('sinks')\n",
    "    startIndex = startIndex + 10 # We do this because .find() puts us at the index where \"s\" in \"sinks\" is located\n",
    "    \n",
    "    stringOne = fileText[0:startIndex]\n",
    "    stringTwo = fileText[startIndex:-1]\n",
    "    \n",
    "    for func in functionNameList:\n",
    "        if func not in fileText:\n",
    "            stringTwo = '        \\\"' + func + '\\\": {},\\n' + stringTwo\n",
    "            wordsPresent += 1\n",
    "        else:\n",
    "            continue\n",
    "    # Write edited fileText to original trigger file\n",
    "    \n",
    "    stringThree = stringOne + stringTwo\n",
    "    \n",
    "    if wordsPresent == 0:\n",
    "        return fileText\n",
    "    else:\n",
    "        return stringThree"
   ]
  },
  {
   "cell_type": "code",
   "execution_count": 330,
   "metadata": {},
   "outputs": [
    {
     "name": "stdout",
     "output_type": "stream",
     "text": [
      "{}\n"
     ]
    }
   ],
   "source": [
    "mydict = fileFinder(sys.argv[1])"
   ]
  },
  {
   "cell_type": "code",
   "execution_count": 331,
   "metadata": {},
   "outputs": [],
   "source": [
    "functionNameList = functionFinder(mydict)"
   ]
  },
  {
   "cell_type": "code",
   "execution_count": 332,
   "metadata": {},
   "outputs": [],
   "source": [
    "newTriggerFile = sinkWriter(functionNameList, sys.argv[1])\n",
    "triggerFile = triggerFinder(sys.argv[1])"
   ]
  },
  {
   "cell_type": "code",
   "execution_count": 334,
   "metadata": {},
   "outputs": [],
   "source": [
    "# After editing the old file, I will overwrite it\n",
    "f = open(triggerFile, 'w')\n",
    "f.write(newTriggerFile)\n",
    "f.close()"
   ]
  },
  {
   "cell_type": "code",
   "execution_count": 335,
   "metadata": {},
   "outputs": [
    {
     "name": "stdout",
     "output_type": "stream",
     "text": [
      "python3 -m pyt -t aaaa.pyt main_prog.py\n"
     ]
    }
   ],
   "source": [
    "print('Executing: ' + 'python3 -m pyt -t ' + triggerFile + ' main_prog.py')\n",
    "print()"
   ]
  },
  {
   "cell_type": "code",
   "execution_count": 336,
   "metadata": {},
   "outputs": [
    {
     "data": {
      "text/plain": [
       "256"
      ]
     },
     "execution_count": 336,
     "metadata": {},
     "output_type": "execute_result"
    }
   ],
   "source": [
    "os.system('python3 -m pyt -t ' + triggerFile + ' main_prog.py')"
   ]
  },
  {
   "cell_type": "code",
   "execution_count": null,
   "metadata": {},
   "outputs": [],
   "source": []
  }
 ],
 "metadata": {
  "kernelspec": {
   "display_name": "Python 3",
   "language": "python",
   "name": "python3"
  },
  "language_info": {
   "codemirror_mode": {
    "name": "ipython",
    "version": 3
   },
   "file_extension": ".py",
   "mimetype": "text/x-python",
   "name": "python",
   "nbconvert_exporter": "python",
   "pygments_lexer": "ipython3",
   "version": "3.7.4"
  }
 },
 "nbformat": 4,
 "nbformat_minor": 2
}
