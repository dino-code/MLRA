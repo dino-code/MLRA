{
 "cells": [
  {
   "cell_type": "code",
   "execution_count": 22,
   "metadata": {},
   "outputs": [],
   "source": [
    "import os"
   ]
  },
  {
   "cell_type": "code",
   "execution_count": 23,
   "metadata": {},
   "outputs": [],
   "source": [
    "# creates a dictionary with cpp files as keys and their paths as values\n",
    "def fileFinder():\n",
    "    currDirectory = os.getcwdb()\n",
    "    fileDict = {}\n",
    "    for dirpath, dirname, filename in os.walk(currDirectory):\n",
    "        for z in filename:\n",
    "            if '.cpp' in str(z):\n",
    "                 fileDict[str(z)[2:-1]] = str(dirpath)[2:-1]\n",
    "    \n",
    "    return fileDict\n",
    "\n",
    "# takes dict made in fileFinder() and searches each cpp file for PYBIND MODULE functions created.\n",
    "def functionFinder(fileDict): \n",
    "    mdefList = []\n",
    "    returnList = []\n",
    "    \n",
    "    for fileName in fileDict:\n",
    "        fileObject = open(fileDict[fileName]+'/'+fileName, 'r') \n",
    "        fileText = fileObject.read()\n",
    "        fileObject.close()\n",
    "        \n",
    "        if 'PYBIND11' in fileText:\n",
    "            startIndex = fileText.find('m.def(')\n",
    "            \n",
    "            while(len(mdefList) < 2):    \n",
    "                endIndex = fileText.find(')', startIndex)\n",
    "                print(fileText[startIndex:endIndex+1])\n",
    "                mdefList.append(fileText[startIndex:endIndex+1])\n",
    "                startIndex = fileText.find('m.def(', startIndex+5)\n",
    "\n",
    "    returnList = mdefCleaner(mdefList)\n",
    "    \n",
    "    return returnList\n",
    "\n",
    "# cleans list of mdef findings in functionFinder(fileDict)\n",
    "def mdefCleaner(mdefList):\n",
    "    newList = []\n",
    "    for func in mdefList:\n",
    "        startIndex = func.find(\"\\\"\")\n",
    "        endIndex = func.find(\"\\\"\", startIndex+1)\n",
    "        \n",
    "        newList.append(func[startIndex+1:endIndex])\n",
    "    \n",
    "    return newList"
   ]
  },
  {
   "cell_type": "code",
   "execution_count": 24,
   "metadata": {},
   "outputs": [
    {
     "name": "stdout",
     "output_type": "stream",
     "text": [
      "/Users/dinobecaj/Documents/ComputerScienceMS/LyonsWork/MLRA/MultilingualMatrixMultiplier/matMult.cpp\n"
     ]
    }
   ],
   "source": [
    "mydict = fileFinder()\n",
    "\n",
    "for file in mydict:\n",
    "    print(mydict[file]+'/'+file)"
   ]
  },
  {
   "cell_type": "code",
   "execution_count": 25,
   "metadata": {},
   "outputs": [
    {
     "name": "stdout",
     "output_type": "stream",
     "text": [
      "m.def(\"multiply\", &multiply, \"A function which multiplies two numbers\")\n",
      "m.def(\"test\", &test, \"A test for search string\")\n"
     ]
    }
   ],
   "source": [
    "functionNameList = functionFinder(mydict)"
   ]
  },
  {
   "cell_type": "code",
   "execution_count": 26,
   "metadata": {},
   "outputs": [
    {
     "name": "stdout",
     "output_type": "stream",
     "text": [
      "['multiply', 'test']\n"
     ]
    }
   ],
   "source": [
    "print(functionNameList)"
   ]
  }
 ],
 "metadata": {
  "kernelspec": {
   "display_name": "Python 3",
   "language": "python",
   "name": "python3"
  },
  "language_info": {
   "codemirror_mode": {
    "name": "ipython",
    "version": 3
   },
   "file_extension": ".py",
   "mimetype": "text/x-python",
   "name": "python",
   "nbconvert_exporter": "python",
   "pygments_lexer": "ipython3",
   "version": "3.7.4"
  }
 },
 "nbformat": 4,
 "nbformat_minor": 2
}
