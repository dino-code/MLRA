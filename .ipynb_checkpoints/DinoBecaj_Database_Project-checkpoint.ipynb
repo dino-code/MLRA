{
 "cells": [
  {
   "cell_type": "code",
   "execution_count": 4,
   "metadata": {},
   "outputs": [
    {
     "name": "stdout",
     "output_type": "stream",
     "text": [
      "Populating the interactive namespace from numpy and matplotlib\n"
     ]
    }
   ],
   "source": [
    "%pylab inline\n",
    "import pandas"
   ]
  },
  {
   "cell_type": "code",
   "execution_count": 5,
   "metadata": {},
   "outputs": [],
   "source": [
    "data = pandas.read_csv('MLRAdata.csv')"
   ]
  },
  {
   "cell_type": "code",
   "execution_count": 7,
   "metadata": {},
   "outputs": [
    {
     "name": "stdout",
     "output_type": "stream",
     "text": [
      "      Unnamed: 0                                 repName  \\\n",
      "5108        5108           ext-router-media-localization   \n",
      "5109        5109  vue-cli-plugin-nativescript-vue-preset   \n",
      "5110        5110                        EtheriumTokenICO   \n",
      "5111        5111                        dockernodevscode   \n",
      "5112        5112                               notes-app   \n",
      "\n",
      "                                                 repUrl  yml  txt  md  cpp  \\\n",
      "5108  https://github.com/mvccore/ext-router-media-lo...    0    0   0    0   \n",
      "5109  https://github.com/vpiskunov/vue-cli-plugin-na...    0    0   0    0   \n",
      "5110        https://github.com/domix90/EtheriumTokenICO    0    0   0    0   \n",
      "5111    https://github.com/shaunie2fly/dockernodevscode    1    0   0    0   \n",
      "5112            https://github.com/shivanik6z/notes-app    0    0   0    0   \n",
      "\n",
      "      sln  hpp  html  ...  pxd  mxml  pyc  dot  mp3  pyd  pyui  xhtml  m4a  cs  \n",
      "5108    0    0     0  ...    0     0    0    0    0    0     0      0    0   0  \n",
      "5109    0    0     0  ...    0     0    0    0    0    0     0      0    0   0  \n",
      "5110    0    0     0  ...    0     0    0    0    0    0     0      0    0   0  \n",
      "5111    0    0     0  ...    0     0    0    0    0    0     0      0    0   0  \n",
      "5112    0    0     0  ...    0     0    0    0    0    0     0      0    0   0  \n",
      "\n",
      "[5 rows x 65 columns]\n"
     ]
    }
   ],
   "source": [
    "data.tail()"
   ]
  },
  {
   "cell_type": "code",
   "execution_count": 9,
   "metadata": {},
   "outputs": [
    {
     "name": "stdout",
     "output_type": "stream",
     "text": [
      "(5113, 65)\n"
     ]
    }
   ],
   "source": [
    "data.shape"
   ]
  },
  {
   "cell_type": "code",
   "execution_count": null,
   "metadata": {},
   "outputs": [],
   "source": []
  }
 ],
 "metadata": {
  "kernelspec": {
   "display_name": "Python 3",
   "language": "python",
   "name": "python3"
  },
  "language_info": {
   "codemirror_mode": {
    "name": "ipython",
    "version": 3
   },
   "file_extension": ".py",
   "mimetype": "text/x-python",
   "name": "python",
   "nbconvert_exporter": "python",
   "pygments_lexer": "ipython3",
   "version": "3.7.4"
  }
 },
 "nbformat": 4,
 "nbformat_minor": 2
}
