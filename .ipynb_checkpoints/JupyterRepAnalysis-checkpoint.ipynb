{
 "cells": [
  {
   "cell_type": "code",
   "execution_count": 1,
   "metadata": {},
   "outputs": [
    {
     "name": "stdout",
     "output_type": "stream",
     "text": [
      "Number of repositories: 5114\n"
     ]
    }
   ],
   "source": [
    "import time\n",
    "import pandas as pd\n",
    "import matplotlib.pyplot as plt\n",
    "\n",
    "def linkIndexFinder(analysisData):\n",
    "    linkIndexList = []\n",
    "    for i in range(0, len(analysisData)-1):                     # Create a list of all the indices where there is a url in the data\n",
    "        if \"https://github.com/\" in analysisData[i]:            # So that we can know how far to go when scraping.\n",
    "            linkIndexList.append(i)\n",
    "    linkIndexList.append(len(analysisData))\n",
    "    \n",
    "    return linkIndexList\n",
    "    \n",
    "def extensionFinder(analysisData, linkIndexList):\n",
    "    fileExtensions = []\n",
    "    # This for loop navigates analysisData\n",
    "    for link in range(0, len(linkIndexList)-1):\n",
    "        \n",
    "        if link != len(linkIndexList)-1:\n",
    "            start = linkIndexList[link]+1\n",
    "            finish = linkIndexList[link+1]-2\n",
    "    \n",
    "        else:\n",
    "            start = linkIndexList[link]         \n",
    "            finish = analysisData[len(analysisData)-1]\n",
    "\n",
    "        fileExt = ''\n",
    "            \n",
    "        while start != finish:\n",
    "            current = analysisData[start]              #begins analyzing file extension found after link in analysisData\n",
    "            whiteSpaceExt = current.find(' ')          #analysisData format \"fileExt_numFiles\", where _ is whitespace\n",
    "            \n",
    "            for i in range(0, whiteSpaceExt):          #adds every character up to the whitespace\n",
    "                fileExt += current[i]\n",
    "            \n",
    "            fileExt = fileExt.casefold()                #makes all fileExts lowercase to prevent duplicate entries\n",
    "            \n",
    "            if fileExt not in fileExtensions:\n",
    "                fileExtensions.append(fileExt)\n",
    "            \n",
    "            start += 1\n",
    "            fileExt = ''  \n",
    "    \n",
    "    return fileExtensions\n",
    "\n",
    "def filesFinder(analysisData, linkIndexFinder, dataDict):\n",
    "    \n",
    "    dataDict = dataDict\n",
    "    \n",
    "    for link in range(0, len(linkIndexList)-1):\n",
    "        \n",
    "        if link != len(linkIndexList)-1:\n",
    "            start = linkIndexList[link]+1\n",
    "            finish = linkIndexList[link+1]-2\n",
    "        \n",
    "        else:\n",
    "            start = linkIndexList[link]         \n",
    "            finish = analysisData[len(analysisData)-1]\n",
    "        \n",
    "        currLink = analysisData[linkIndexList[link]]\n",
    "        dataDict[currLink] = {}\n",
    "                \n",
    "        fileNum = ''\n",
    "        fileExt = ''\n",
    "        \n",
    "        \n",
    "        while start != finish:\n",
    "            current = analysisData[start]              #begins analyzing file extension found after link in analysisData\n",
    "            whiteSpaceExt = current.find(' ')          #analysisData format \"fileExt_numFiles\", where _ is whitespace\n",
    "            whiteSpaceNum = current.rfind(' ')\n",
    "            for i in range(0, whiteSpaceExt):          #adds every character up to the whitespace\n",
    "                fileExt += current[i]\n",
    "            for j in range(whiteSpaceNum+1, len(current)):       #diff variable used bc some Extensions had extra whitespace\n",
    "                fileNum += current[j]\n",
    "            \n",
    "            fileExt = fileExt.casefold()                #makes all fileExts lowercase to prevent duplicate entries\n",
    "            numFiles = int(fileNum)\n",
    "            \n",
    "            if numFiles != 0:\n",
    "                dataDict[currLink][fileExt] = numFiles\n",
    "            \n",
    "            start += 1\n",
    "            fileExt = ''\n",
    "            fileNum = ''\n",
    "            \n",
    "    return dataDict\n",
    "\n",
    "def repUrlList(linkIndexList, analysisData):\n",
    "    repUrls = []\n",
    "    \n",
    "    for i in range(0, len(linkIndexList)-1):\n",
    "        index = linkIndexList[i]\n",
    "        repUrls.append(analysisData[index])\n",
    "        \n",
    "    return repUrls\n",
    "\n",
    "# SCRIPT BEGINS HERE #\n",
    "\n",
    "begin = time.time()\n",
    "\n",
    "f = open(\"analysisData.txt\", 'r')\n",
    "analysisData = f.read()\n",
    "analysisData = analysisData.split('\\n')\n",
    "\n",
    "fileNum = ''\n",
    "fileExt = ''                 \n",
    "\n",
    "linkIndexList = linkIndexFinder(analysisData)\n",
    "print(\"Number of repositories:\",len(linkIndexList))\n",
    "\n",
    "start = linkIndexList[0]\n",
    "last = linkIndexList[len(linkIndexList)-1]\n",
    "\n",
    "#fileExtensions = extensionFinder(analysisData, linkIndexList)\n",
    "#print(\"Number of file extensions:\", len(fileExtensions))\n",
    "\n",
    "dataDict = {}\n",
    "    \n",
    "start = linkIndexList[0]\n",
    "last = linkIndexList[len(linkIndexList)-1]    \n",
    "dataDict = filesFinder(analysisData, linkIndexFinder, dataDict)\n",
    "\n",
    "# totalFiles = 0\n",
    "# \n",
    "# # for key in dataDict:\n",
    "# #     for nestedKey in dataDict[key]:\n",
    "# #         totalFiles += dataDict[key][nestedKey]\n",
    "# \n",
    "# print(\"Number of files in all repositories:\", totalFiles)"
   ]
  },
  {
   "cell_type": "code",
   "execution_count": 2,
   "metadata": {},
   "outputs": [],
   "source": [
    "df = pd.DataFrame.from_dict(dataDict)\n",
    "df = df.transpose()\n",
    "\n",
    "topTen = df.sum(axis=0).sort_values(ascending=False).head(10)"
   ]
  },
  {
   "cell_type": "code",
   "execution_count": 59,
   "metadata": {},
   "outputs": [
    {
     "data": {
      "image/png": "[encoded data removed]",
      "text/plain": [
       "<Figure size 432x288 with 1 Axes>"
      ]
     },
     "metadata": {
      "needs_background": "light"
     },
     "output_type": "display_data"
    }
   ],
   "source": [
    "topTen.plot.bar(facecolor = 'purple')\n",
    "plt.ylabel('Number of Files Found')\n",
    "plt.xlabel('File Extension')\n",
    "plt.title('Top 10 File Extensions')\n",
    "plt.grid(True)\n",
    "plt.show()"
   ]
  },
  {
   "cell_type": "code",
   "execution_count": 4,
   "metadata": {},
   "outputs": [],
   "source": [
    "df.to_csv('dictTest.csv')"
   ]
  },
  {
   "cell_type": "code",
   "execution_count": 13,
   "metadata": {},
   "outputs": [
    {
     "name": "stdout",
     "output_type": "stream",
     "text": [
      "621345.0\n"
     ]
    }
   ],
   "source": [
    "totalSum = 0\n",
    "for i in df.columns.values:\n",
    "    totalSum += df[i].sum()\n",
    "print(totalSum)"
   ]
  },
  {
   "cell_type": "code",
   "execution_count": 25,
   "metadata": {},
   "outputs": [
    {
     "name": "stdout",
     "output_type": "stream",
     "text": [
      "46066.0\n"
     ]
    }
   ],
   "source": [
    "cpp = df['.cpp'].sum() + df['.m'].sum() + df['.cc'].sum() + df['.h'].sum() + df['.hpp'].sum() + df['.hxx'].sum() + df['.hh'].sum() + df['.cxx'].sum()\n",
    "print(cpp)"
   ]
  },
  {
   "cell_type": "code",
   "execution_count": 40,
   "metadata": {},
   "outputs": [
    {
     "name": "stdout",
     "output_type": "stream",
     "text": [
      "46677.0\n"
     ]
    }
   ],
   "source": [
    "c = df['.c'].sum() + df['.cs'].sum()\n",
    "print(c)"
   ]
  },
  {
   "cell_type": "code",
   "execution_count": 41,
   "metadata": {},
   "outputs": [
    {
     "name": "stdout",
     "output_type": "stream",
     "text": [
      "21380.0\n"
     ]
    }
   ],
   "source": [
    "py = df['.py'].sum() + df['.pyx'].sum() + df['.pyd'].sum() + df['.python'].sum() + df['.pyh'].sum() + df['.py~'].sum() + df['.pyi'].sum() + df['.pyui'].sum()\n",
    "print(py)"
   ]
  },
  {
   "cell_type": "code",
   "execution_count": 42,
   "metadata": {},
   "outputs": [
    {
     "name": "stdout",
     "output_type": "stream",
     "text": [
      "146712.0\n"
     ]
    }
   ],
   "source": [
    "js = df['.js'].sum() + df['.javascript'].sum() \n",
    "print(js)"
   ]
  },
  {
   "cell_type": "code",
   "execution_count": 43,
   "metadata": {},
   "outputs": [
    {
     "name": "stdout",
     "output_type": "stream",
     "text": [
      "3327.0\n"
     ]
    }
   ],
   "source": [
    "java = df['.java'].sum()\n",
    "print(java)"
   ]
  },
  {
   "cell_type": "code",
   "execution_count": 45,
   "metadata": {},
   "outputs": [
    {
     "name": "stdout",
     "output_type": "stream",
     "text": [
      "264162.0\n"
     ]
    }
   ],
   "source": [
    "programming = cpp + c + py + js + java\n",
    "print(programming)"
   ]
  },
  {
   "cell_type": "code",
   "execution_count": 46,
   "metadata": {},
   "outputs": [
    {
     "name": "stdout",
     "output_type": "stream",
     "text": [
      "0.42514545059508\n"
     ]
    }
   ],
   "source": [
    "print(programming/totalSum)"
   ]
  },
  {
   "cell_type": "code",
   "execution_count": 57,
   "metadata": {},
   "outputs": [
    {
     "data": {
      "image/png": "[encoded data removed]",
      "text/plain": [
       "<Figure size 432x288 with 1 Axes>"
      ]
     },
     "metadata": {
      "needs_background": "light"
     },
     "output_type": "display_data"
    }
   ],
   "source": [
    "plt.close()\n",
    "labels = ['Programming Language Extensions', 'All File Extensions']\n",
    "values = [programming, totalSum]\n",
    "plt.bar(labels, values, facecolor = 'purple')\n",
    "plt.title('Programming Language Extensions vs All File Extensions')\n",
    "plt.grid(True)\n",
    "plt.show()"
   ]
  },
  {
   "cell_type": "code",
   "execution_count": 58,
   "metadata": {},
   "outputs": [
    {
     "data": {
      "image/png": "[encoded data removed]",
      "text/plain": [
       "<Figure size 432x288 with 1 Axes>"
      ]
     },
     "metadata": {
      "needs_background": "light"
     },
     "output_type": "display_data"
    }
   ],
   "source": [
    "plt.close()\n",
    "labels = ['C++', 'C', 'Python', 'Javascript', 'Java']\n",
    "values = [cpp, c, py, js, java]\n",
    "plt.bar(labels, values, facecolor = 'purple')\n",
    "plt.title('Programming Language Breakdown')\n",
    "plt.grid(True)\n",
    "plt.show()"
   ]
  },
  {
   "cell_type": "code",
   "execution_count": null,
   "metadata": {},
   "outputs": [],
   "source": []
  }
 ],
 "metadata": {
  "kernelspec": {
   "display_name": "Python 3",
   "language": "python",
   "name": "python3"
  },
  "language_info": {
   "codemirror_mode": {
    "name": "ipython",
    "version": 3
   },
   "file_extension": ".py",
   "mimetype": "text/x-python",
   "name": "python",
   "nbconvert_exporter": "python",
   "pygments_lexer": "ipython3",
   "version": "3.7.4"
  }
 },
 "nbformat": 4,
 "nbformat_minor": 2
}
