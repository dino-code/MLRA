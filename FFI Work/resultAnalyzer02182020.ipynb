{
 "cells": [
  {
   "cell_type": "code",
   "execution_count": 90,
   "metadata": {},
   "outputs": [],
   "source": [
    "import pandas as pd"
   ]
  },
  {
   "cell_type": "code",
   "execution_count": 121,
   "metadata": {},
   "outputs": [],
   "source": [
    "f = open('ffiFinderResultsRun3.csv', 'r')\n",
    "data = f.read()\n",
    "f.close()\n",
    "\n",
    "data = data.split('\\n')"
   ]
  },
  {
   "cell_type": "code",
   "execution_count": 122,
   "metadata": {},
   "outputs": [
    {
     "name": "stdout",
     "output_type": "stream",
     "text": [
      "124\n"
     ]
    }
   ],
   "source": [
    "dataDict = {}\n",
    "\n",
    "for i in data:\n",
    "    rep = i.split(',')\n",
    "    dataDict[rep[0]] = rep[1:len(rep)]\n",
    "\n",
    "print(len(dataDict))"
   ]
  },
  {
   "cell_type": "code",
   "execution_count": 128,
   "metadata": {},
   "outputs": [
    {
     "name": "stdout",
     "output_type": "stream",
     "text": [
      "1    quantlib-old\n",
      "2    c2py\n",
      "3    scikit-build\n",
      "4    PythonExtensionPatterns\n",
      "5    intbitset\n",
      "6    llvm\n",
      "7    maya_python_c_extension\n",
      "8    zope.proxy\n",
      "9    SimpleOrderbook\n",
      "10   amfast\n",
      "11   cext23\n",
      "12   cffibuilder\n",
      "13   PyOmxPlayer\n",
      "14   pyudns\n",
      "15   pyplay\n",
      "16   pyhook\n",
      "17   PyOptiPng\n",
      "18   pyjava\n",
      "19   python-cxx\n",
      "20   py-ext-test\n",
      "21   demo-python-PyCExtDemo1\n",
      "22   redir\n",
      "23   python-sensor-extension\n",
      "24   cython_export\n",
      "25   demo-c-extension\n",
      "26   pykorea-cext-examples\n",
      "27   PyExpose\n",
      "28   winnotify\n",
      "29   mtcnn\n",
      "30   lib-common\n",
      "31   WLib\n",
      "32   py-hawkes\n",
      "33   tp_matrix_extenstion\n",
      "34   python3_sundtek\n",
      "35   kconv_Cython\n",
      "36   rdtscp\n",
      "37   python-c-api-example\n",
      "38   uvincenty\n",
      "39   tbjcPyRootReader\n",
      "40   PyBloom\n",
      "41   cplusplus_extension_for_py\n",
      "42   pytensor\n",
      "43   cpython_extension_template\n",
      "44   visr-cpp-library-example\n",
      "45   xmlwriter\n",
      "46   test_pymodule\n",
      "47   scikit-surgeryopencvcpp\n",
      "48   pypow10\n",
      "49   ibm_db_test\n",
      "50   CPython-Extensions\n",
      "51   PyObjects-and-Boost-tutorials\n",
      "52   fastfilepackage\n",
      "53   PYB11Generator\n",
      "54   pywin32\n",
      "55   pypiwin32\n",
      "56   PythonCExtensions\n",
      "57   PySnip\n",
      "58   python-preview\n",
      "59   php-python\n",
      "60   python-llist\n",
      "61   python-caja\n",
      "62   MQ2Py\n",
      "63   pymex\n",
      "64   nautilus-python\n",
      "65   pyquickhelper\n",
      "66   pylibre\n",
      "67   pywindbg\n",
      "68   pyevent\n",
      "69   pysqlite\n",
      "70   pyexpat\n",
      "71   pythonhacks\n",
      "72   cdm-pythonparser\n",
      "73   pyavfcam\n",
      "74   Pythia\n",
      "75   pystackreg\n",
      "76   pycpdf\n",
      "77   qt-creator-python-extensions\n",
      "78   PythonCppExtension\n",
      "79   eider-pybind11\n",
      "80   python-medioex-module\n",
      "81   measurement-kit-python\n",
      "82   Python-extension-for-WinDbg\n",
      "83   PythonNativeExample1\n",
      "84   qubes-nautilus-python-trust\n",
      "85   pygotham-2019-rust-extensions\n",
      "86   pygdb\n",
      "87   pykeynote\n",
      "88   PyBSP\n",
      "89   pycon2015\n",
      "90   py-behavior-tree\n",
      "91   Py3BSP\n",
      "92   pyuno3ext\n",
      "93   source-python-extensions\n",
      "94   pylondinium-2019-rust-extensions\n",
      "95   sqlite3-python\n",
      "96   pybsp\n",
      "97   pycyexamp\n",
      "98   Python-Extension-with-Kernel\n",
      "99   python_manylinux_cmake_test_project\n",
      "100  puredata-python\n",
      "101  python-luxio\n",
      "102  pyxine-branch\n",
      "103  python-spam-module\n",
      "104  vpi_pyeval\n",
      "105  offline-python\n",
      "106  libwebsock-python\n",
      "107  pyaosocket\n",
      "108  pytwink\n",
      "109  pyswinst\n",
      "110  python-rt\n",
      "111  python-libfov\n",
      "112  pyrctl\n",
      "113  js-map-parser\n",
      "114  backbone-shared.js\n",
      "115  magentoExtension\n",
      "116  threeVP-Extras.js\n",
      "117  node-tracer\n",
      "118  Learn-online\n",
      "119  TodoList\n",
      "120  ToDoList\n",
      "121  \n",
      "122  Unravel\n",
      "123  project4\n",
      "124  shovelapps-cms\n"
     ]
    }
   ],
   "source": [
    "fiveCalls = {}\n",
    "fourCalls = {}\n",
    "threeCalls = {}\n",
    "\n",
    "counter = 1\n",
    "for i in dataDict:\n",
    "    print(f'{counter:<4} {i}')\n",
    "    counter+=1\n"
   ]
  },
  {
   "cell_type": "code",
   "execution_count": 133,
   "metadata": {},
   "outputs": [
    {
     "ename": "KeyError",
     "evalue": "'cext'",
     "output_type": "error",
     "traceback": [
      "\u001b[0;31m---------------------------------------------------------------------------\u001b[0m",
      "\u001b[0;31mKeyError\u001b[0m                                  Traceback (most recent call last)",
      "\u001b[0;32m<ipython-input-133-a7269fdbae06>\u001b[0m in \u001b[0;36m<module>\u001b[0;34m\u001b[0m\n\u001b[1;32m      1\u001b[0m \u001b[0mrep\u001b[0m \u001b[0;34m=\u001b[0m \u001b[0;34m'cext'\u001b[0m\u001b[0;34m\u001b[0m\u001b[0;34m\u001b[0m\u001b[0m\n\u001b[0;32m----> 2\u001b[0;31m \u001b[0;32mfor\u001b[0m \u001b[0mi\u001b[0m \u001b[0;32min\u001b[0m \u001b[0mdataDict\u001b[0m\u001b[0;34m[\u001b[0m\u001b[0mrep\u001b[0m\u001b[0;34m]\u001b[0m\u001b[0;34m:\u001b[0m\u001b[0;34m\u001b[0m\u001b[0;34m\u001b[0m\u001b[0m\n\u001b[0m\u001b[1;32m      3\u001b[0m     \u001b[0mprint\u001b[0m\u001b[0;34m(\u001b[0m\u001b[0mi\u001b[0m\u001b[0;34m)\u001b[0m\u001b[0;34m\u001b[0m\u001b[0;34m\u001b[0m\u001b[0m\n\u001b[1;32m      4\u001b[0m     \u001b[0mprint\u001b[0m\u001b[0;34m(\u001b[0m\u001b[0;34m)\u001b[0m\u001b[0;34m\u001b[0m\u001b[0;34m\u001b[0m\u001b[0m\n",
      "\u001b[0;31mKeyError\u001b[0m: 'cext'"
     ]
    }
   ],
   "source": [
    "rep = 'cext'\n",
    "for i in dataDict[rep]:\n",
    "    print(i)\n",
    "    print()"
   ]
  },
  {
   "cell_type": "code",
   "execution_count": 113,
   "metadata": {},
   "outputs": [
    {
     "name": "stdout",
     "output_type": "stream",
     "text": [
      "xmlwriter\n",
      "pypow10\n",
      "node-tracer\n"
     ]
    }
   ],
   "source": [
    "threeCalls = {}\n",
    "for i in dataDict:\n",
    "    if len(dataDict[i])>3:\n",
    "        print(i)\n",
    "        threeCalls[i] = dataDict[i]"
   ]
  },
  {
   "cell_type": "code",
   "execution_count": 114,
   "metadata": {},
   "outputs": [
    {
     "name": "stdout",
     "output_type": "stream",
     "text": [
      "c2py\n",
      "llvm\n",
      "cext23\n",
      "cffibuilder\n",
      "py-ext-test\n",
      "cython_export\n",
      "pykorea-cext-examples\n",
      "tp_matrix_extenstion\n",
      "kconv_Cython\n",
      "python-c-api-example\n",
      "PyBloom\n",
      "visr-cpp-library-example\n",
      "PYB11Generator\n",
      "PySnip\n",
      "python-preview\n",
      "pyquickhelper\n",
      "pythonhacks\n",
      "Pythia\n",
      "pystackreg\n",
      "eider-pybind11\n",
      "pygotham-2019-rust-extensions\n",
      "pycon2015\n",
      "pylondinium-2019-rust-extensions\n",
      "python_manylinux_cmake_test_project\n",
      "offline-python\n",
      "js-map-parser\n",
      "backbone-shared.js\n",
      "magentoExtension\n",
      "threeVP-Extras.js\n",
      "Learn-online\n",
      "TodoList\n",
      "ToDoList\n",
      "Unravel\n",
      "project4\n",
      "shovelapps-cms\n"
     ]
    }
   ],
   "source": [
    "twoCalls = {}\n",
    "for i in dataDict:\n",
    "    if len(dataDict[i])>2 and i not in threeCalls:\n",
    "        print(i)\n",
    "        twoCalls[i] = dataDict[i]"
   ]
  },
  {
   "cell_type": "code",
   "execution_count": 120,
   "metadata": {},
   "outputs": [
    {
     "name": "stdout",
     "output_type": "stream",
     "text": [
      "cythonize(^^^/Users/dinobecaj/LocalDocuments/LyonsDB/PySnip/build.py^^^\n",
      "\n",
      "pyObject^^^/Users/dinobecaj/LocalDocuments/LyonsDB/PySnip/pyspades/vxl_c.cpp^^^/Users/dinobecaj/LocalDocuments/LyonsDB/PySnip/pyspades/bytes_c.cpp^^^\n",
      "\n",
      "\n",
      "\n"
     ]
    }
   ],
   "source": [
    "rep = 'PySnip'\n",
    "for i in dataDict[rep]:\n",
    "    print(i)\n",
    "    print()"
   ]
  }
 ],
 "metadata": {
  "kernelspec": {
   "display_name": "Python 3",
   "language": "python",
   "name": "python3"
  },
  "language_info": {
   "codemirror_mode": {
    "name": "ipython",
    "version": 3
   },
   "file_extension": ".py",
   "mimetype": "text/x-python",
   "name": "python",
   "nbconvert_exporter": "python",
   "pygments_lexer": "ipython3",
   "version": "3.7.4"
  }
 },
 "nbformat": 4,
 "nbformat_minor": 2
}
