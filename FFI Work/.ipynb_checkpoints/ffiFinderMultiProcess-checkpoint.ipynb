{
 "cells": [
  {
   "cell_type": "code",
   "execution_count": 1,
   "metadata": {},
   "outputs": [],
   "source": [
    "import os\n",
    "import subprocess\n",
    "from os import walk\n",
    "from multiprocessing import Pool"
   ]
  },
  {
   "cell_type": "code",
   "execution_count": 2,
   "metadata": {},
   "outputs": [],
   "source": [
    "def listMaker(urlList):\n",
    "    newUrlList = []\n",
    "    \n",
    "    for repository in range(0, len(urlList)-1):\n",
    "        currUrl = urlList[repository]\n",
    "        directory = currUrl.split(\"/\")      \n",
    "     \n",
    "        try:\n",
    "            newUrlList.append(directory[len(directory)-1])     #Stores name of the repository so it can be deleted later\n",
    "        except:\n",
    "            continue\n",
    "    \n",
    "    return newUrlList\n",
    "\n",
    "def keywordSearcher(keyword, file):\n",
    "            process = subprocess.run(f'grep -n \\'{keyword}\\' {file} | cut -f1 -d:', shell=True, stdout = subprocess.PIPE)\n",
    "            output = process.stdout.decode('utf-8')\n",
    "        \n",
    "            #If there is a keyword match, append the file and line to grep list.\n",
    "            if output != \"\":\n",
    "                output = keyword+\"^^^\"+file+\"^^^\"+output\n",
    "                return output\n",
    "\n",
    "def multCallsPerFileSearcher(filesList, ffiList):      \n",
    "    for file in filesList:\n",
    "        outputList = []\n",
    "        \n",
    "        pool = Pool(5)\n",
    "        output = pool.map(keywordSearcher, ffiList)\n",
    "        pool.close()\n",
    "        pool.join()\n",
    "        \n",
    "        counter = 0\n",
    "        for i in output:\n",
    "            if i == \"\":\n",
    "                counter += 1\n",
    "            else:\n",
    "                outputList.append(i)\n",
    "        if counter < 3:\n",
    "            return outputList\n",
    "                \n",
    "    return [\"No files with multiple foreign function calls.\"]\n",
    "\n",
    "def searchEngine(ffiList, repository):\n",
    "    mainDir = \"/Users/dinobecaj/LocalDocuments/LyonsDB/\"\n",
    "    multCallsPerFileDict = {}\n",
    "\n",
    "    returnList = []\n",
    "\n",
    "    os.chdir(mainDir)\n",
    "\n",
    "    for (dirpath, dirnames, filenames) in walk(mainDir+repository):\n",
    "    \n",
    "        os.chdir(dirpath)\n",
    "        \n",
    "        returnList = multCallsPerFileSearcher(filenames, ffiList)\n",
    "        if returnList != ['No files with multiple foreign function calls.']:\n",
    "            if progDir in multCallsPerFileDict.keys():\n",
    "                multCallsPerFileDict[repository].append(returnList)\n",
    "            else:\n",
    "                multCallsPerFileDict[repository] = returnList\n",
    "\n",
    "    os.system(f\"cd {mainDir}\")\n",
    "\n",
    "    return multCallsPerFileDict"
   ]
  },
  {
   "cell_type": "code",
   "execution_count": 3,
   "metadata": {},
   "outputs": [],
   "source": [
    "f = open(\"newFullList.csv\", \"r\")\n",
    "urlList = f.read()\n",
    "f.close()\n",
    "urlList = urlList.split(',')"
   ]
  },
  {
   "cell_type": "code",
   "execution_count": 4,
   "metadata": {},
   "outputs": [],
   "source": [
    "ffiList = [\"cythonize(\", \"Py_initialize(\", \"pyObject\", \"PYBIND11_MODULE(\", \"FFI()\"]\n",
    "#Tester ffiList = [\"generate\", \"use\"]\n",
    "# IMPORTANT: Make sure I run a test to find other FFI's between other languages like Javascript"
   ]
  },
  {
   "cell_type": "code",
   "execution_count": 5,
   "metadata": {},
   "outputs": [],
   "source": [
    "repList = listMaker(urlList)\n",
    "#test = [1,2,3,4,5,6,7,8,9,10]"
   ]
  },
  {
   "cell_type": "code",
   "execution_count": null,
   "metadata": {},
   "outputs": [],
   "source": [
    "counter = 0\n",
    "length = 1\n",
    "for rep in range(0, length):\n",
    "    print(f\"Now analyzing: {repList[rep]}\")\n",
    "    multCallsPerFileDict = searchEngine(ffiList, repList[rep])\n",
    "    counter+=1\n",
    "    print(f\"Progress: {counter}/{length}\")\n",
    "print(\"Done. Thank you!\")"
   ]
  },
  {
   "cell_type": "code",
   "execution_count": null,
   "metadata": {},
   "outputs": [],
   "source": [
    "print(multCallsPerFileDict)"
   ]
  },
  {
   "cell_type": "code",
   "execution_count": null,
   "metadata": {},
   "outputs": [],
   "source": [
    "g = open(\"results.csv\", \"w\")\n",
    "\n",
    "for i in multCallsPerFileDict:\n",
    "    g.write(i+\",\")\n",
    "    g.write(multCallsPerFileDict[i]+\"\\n\")\n",
    "    \n",
    "g.close()"
   ]
  }
 ],
 "metadata": {
  "kernelspec": {
   "display_name": "Python 3",
   "language": "python",
   "name": "python3"
  },
  "language_info": {
   "codemirror_mode": {
    "name": "ipython",
    "version": 3
   },
   "file_extension": ".py",
   "mimetype": "text/x-python",
   "name": "python",
   "nbconvert_exporter": "python",
   "pygments_lexer": "ipython3",
   "version": "3.7.4"
  }
 },
 "nbformat": 4,
 "nbformat_minor": 2
}
