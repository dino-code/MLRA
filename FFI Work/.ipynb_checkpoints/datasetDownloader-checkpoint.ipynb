{
 "cells": [
  {
   "cell_type": "code",
   "execution_count": null,
   "metadata": {},
   "outputs": [],
   "source": [
    "import os\n",
    "import subprocess\n",
    "from os import walk\n",
    "from os.path import isfile, join"
   ]
  },
  {
   "cell_type": "code",
   "execution_count": null,
   "metadata": {},
   "outputs": [],
   "source": [
    "def listMaker(urlList):\n",
    "    newUrlList = []\n",
    "    \n",
    "    for repository in range(0, len(urlList)-1):\n",
    "        currUrl = urlList[repository]\n",
    "        directory = currUrl.split(\"/\")      \n",
    "     \n",
    "        try:\n",
    "            newUrlList.append(directory[len(directory)-1])     #Stores name of the repository so it can be deleted later\n",
    "        except:\n",
    "            continue\n",
    "    \n",
    "    return newUrlList\n",
    "\n",
    "def multCallsPerFileSearcher(filesList, ffiList):      \n",
    "    for file in filesList:\n",
    "        foundItems = []            #List of file and grep output\n",
    "        foundKeywords = []\n",
    "        \n",
    "        for ffiString in ffiList:\n",
    "            process = subprocess.run(f'grep -n \\'{ffiString}\\' {file} | cut -f1 -d:', shell=True, stdout = subprocess.PIPE)\n",
    "            output = process.stdout.decode('utf-8')\n",
    "        \n",
    "            #If there is a keyword match, append the file and line to grep list.\n",
    "            if output != \"\":\n",
    "                foundItems.append(ffiString+\"^^^\"+file+\"^^^\"+output)\n",
    "                foundKeywords.append(ffiString)\n",
    "                if len(foundKeywords) > 1:\n",
    "                    return foundItems\n",
    "                \n",
    "    return [\"No files with multiple foreign function calls.\"]\n",
    "\n",
    "def searchEngine(ffiList, repository):\n",
    "    mainDir = \"/Users/dinobecaj/LocalDocuments/LyonsDB/\"\n",
    "    multCallsPerFileDict = {}\n",
    "\n",
    "    returnList = []\n",
    "\n",
    "    os.chdir(mainDir)\n",
    "\n",
    "    for (dirpath, dirnames, filenames) in walk(mainDir+repository):\n",
    "    \n",
    "        os.chdir(dirpath)\n",
    "        \n",
    "        returnList = multCallsPerFileSearcher(filenames, ffiList)\n",
    "        if returnList != ['No files with multiple foreign function calls.']:\n",
    "            if progDir in multCallsPerFileDict.keys():\n",
    "                multCallsPerFileDict[repository].append(returnList)\n",
    "            else:\n",
    "                multCallsPerFileDict[repository] = returnList\n",
    "\n",
    "    os.system(f\"cd {mainDir}\")\n",
    "\n",
    "    return multCallsPerFileDict"
   ]
  },
  {
   "cell_type": "code",
   "execution_count": 3,
   "metadata": {},
   "outputs": [],
   "source": [
    "f = open(\"newFullList.csv\", \"r\")\n",
    "urlList = f.read()\n",
    "f.close()\n",
    "urlList = urlList.split(',')\n",
    "#programDir = os.getcwd()"
   ]
  },
  {
   "cell_type": "code",
   "execution_count": 4,
   "metadata": {},
   "outputs": [],
   "source": [
    "ffiList = [\"cythonize(\", \"Py_initialize(\", \"pyObject\", \"PYBIND11_MODULE(\", \"FFI()\"]\n",
    "#Tester ffiList = [\"generate\", \"use\"]\n"
   ]
  },
  {
   "cell_type": "code",
   "execution_count": 5,
   "metadata": {},
   "outputs": [],
   "source": [
    "repList = listMaker(urlList)\n",
    "test = [1,2,3,4,5,6,7,8,9,10]"
   ]
  },
  {
   "cell_type": "code",
   "execution_count": 6,
   "metadata": {},
   "outputs": [
    {
     "name": "stdout",
     "output_type": "stream",
     "text": [
      "Now analyzing: RxCpp\n",
      "Progress: 1/10\n",
      "Now analyzing: Z.ExtensionMethods\n",
      "Progress: 2/10\n",
      "Now analyzing: yaf\n",
      "Progress: 3/10\n",
      "Now analyzing: algorithms\n",
      "Progress: 4/10\n",
      "Now analyzing: PHP-CPP\n",
      "Progress: 5/10\n",
      "Now analyzing: cphalcon\n",
      "Progress: 6/10\n",
      "Now analyzing: node-cpp-modules\n",
      "Progress: 7/10\n",
      "Now analyzing: ProtocolKit\n",
      "Progress: 8/10\n",
      "Now analyzing: quantlib-old\n",
      "Progress: 9/10\n",
      "Now analyzing: Mobius\n",
      "Progress: 10/10\n"
     ]
    }
   ],
   "source": [
    "counter = 0\n",
    "length = len(test)\n",
    "for rep in range(0, length):\n",
    "    print(f\"Now analyzing: {repList[rep]}\")\n",
    "    multCallsPerFileDict = searchEngine(ffiList, repList[rep])\n",
    "    counter+=1\n",
    "    print(f\"Progress: {counter}/{length}\")\n",
    "print(\"Done. Thank you!\")"
   ]
  },
  {
   "cell_type": "code",
   "execution_count": 7,
   "metadata": {},
   "outputs": [
    {
     "name": "stdout",
     "output_type": "stream",
     "text": [
      "{}\n"
     ]
    }
   ],
   "source": [
    "print(multCallsPerFileDict)"
   ]
  },
  {
   "cell_type": "code",
   "execution_count": null,
   "metadata": {},
   "outputs": [],
   "source": [
    "#mainDir = \"/Users/dinobecaj/LocalDocuments/LyonsDB/\"\n",
    "#fileDict = {}\n",
    "\n",
    "#os.system(f\"cd {mainDir}\")\n",
    "#for rep in repList:\n",
    "    \n",
    "  #  files = []\n",
    "   # paths = []\n",
    "    #for (dirpath, dirnames, filenames) in walk(mainDir+rep):\n",
    "    #    returnList = multCallsPerFileSearcher(filenames, ffiList)\n",
    "    #    if returnList != [\"No files with multiple foreign function calls.\"]:\n",
    "    #        multCallsPerFileDict[\"rep\"] = returnList\n",
    "     #       print(\"Score!\")\n",
    "            \n",
    "      #  files.extend(filenames)\n",
    "       # paths.extend(dirpath)\n",
    "    \n",
    "    #fileDict[rep] = (paths, files) \n",
    "    \n",
    "    \n",
    "    #os.system(f\"cd {mainDir}\")"
   ]
  },
  {
   "cell_type": "code",
   "execution_count": null,
   "metadata": {},
   "outputs": [],
   "source": [
    "# DOWNLOADER\n",
    "\n",
    "#programDir = \"/Users/dinobecaj/Documents/ComputerScienceMS/LyonsDB/\"    #saves the main directory we are working from\n",
    "\n",
    "#counter = 0\n",
    "#for repository in range(0, len(urlList)-1):\n",
    " #   currUrl = urlList[repository]\n",
    "  #  directory = currUrl.split(\"/\")      \n",
    "     \n",
    "   # try:\n",
    "    #    directory = directory[len(directory)-1]     #Stores name of the repository so it can be deleted later\n",
    "#    except:\n",
    " #       continue\n",
    "\n",
    "  #  currUrl = currUrl + \".git\"\n",
    "    \n",
    "   # try:\n",
    "    #    os.system(f\"git clone {currUrl}\")        #Clones repository to local machine for analysis \n",
    "     #   print(\"Downloading repository...\")\n",
    "    #except:\n",
    "     #   continue\n",
    "        \n",
    "#    os.chdir(programDir)\n",
    "\n",
    " #   counter += 1                           #counter keeps track of script progress\n",
    "\n",
    "  #  print(f\"Progress: {counter}/{len(urlList)}\")\n",
    "#print(\"Done.\")"
   ]
  },
  {
   "cell_type": "code",
   "execution_count": 8,
   "metadata": {},
   "outputs": [],
   "source": [
    "f = open(\"results.csv\", \"w\")\n",
    "\n",
    "for i in multCallsPerFileDict:\n",
    "    f.write(i+\",\")\n",
    "    f.write(multCallsPerFileDict[i]+\"\\n\")\n",
    "    \n",
    "f.close()\n",
    "    "
   ]
  },
  {
   "cell_type": "code",
   "execution_count": null,
   "metadata": {},
   "outputs": [],
   "source": []
  }
 ],
 "metadata": {
  "kernelspec": {
   "display_name": "Python 3",
   "language": "python",
   "name": "python3"
  },
  "language_info": {
   "codemirror_mode": {
    "name": "ipython",
    "version": 3
   },
   "file_extension": ".py",
   "mimetype": "text/x-python",
   "name": "python",
   "nbconvert_exporter": "python",
   "pygments_lexer": "ipython3",
   "version": "3.7.4"
  }
 },
 "nbformat": 4,
 "nbformat_minor": 2
}
