{
 "cells": [
  {
   "cell_type": "code",
   "execution_count": 99,
   "metadata": {},
   "outputs": [],
   "source": [
    "import os\n",
    "import sys\n",
    "import glob"
   ]
  },
  {
   "cell_type": "code",
   "execution_count": 100,
   "metadata": {},
   "outputs": [],
   "source": [
    "# creates a list of all files of the specified extension type: 'cpp', 'py', 'pyt', etc.\n",
    "def findFilesByExt(path, fileExt):\n",
    "    myList = []\n",
    "\n",
    "    for dirpath, directories, files in os.walk(path):\n",
    "        myList.extend(glob.glob(dirpath+'/*.' + fileExt))\n",
    "    \n",
    "    return myList\n",
    "\n",
    "# takes dict made in fileFinder() and searches each cpp file for PYBIND MODULE functions created.\n",
    "def functionFinder(cppFileList): \n",
    "    mdefList = []\n",
    "    returnList = []\n",
    "    \n",
    "    for file in cppFileList:\n",
    "        fileObject = open(file, 'r') \n",
    "        fileText = fileObject.read()\n",
    "        fileObject.close()\n",
    "        \n",
    "        if 'PYBIND11' in fileText:\n",
    "            startIndex = fileText.find('.def(')\n",
    "            \n",
    "            while(startIndex != -1):    \n",
    "                endIndex = fileText.find(')', startIndex)\n",
    "                mdefList.append(fileText[startIndex:endIndex+1])\n",
    "                startIndex = fileText.find('.def(', startIndex+5)\n",
    "\n",
    "    returnList = mdefCleaner(mdefList)\n",
    "    \n",
    "    return returnList\n",
    "\n",
    "# cleans list of mdef findings in functionFinder(fileDict)\n",
    "def mdefCleaner(mdefList):\n",
    "    newList = []\n",
    "    for func in mdefList:\n",
    "        startIndex = func.find(\"\\\"\")\n",
    "        endIndex = func.find(\"\\\"\", startIndex+1)\n",
    "        \n",
    "        newList.append(func[startIndex+1:endIndex] + '(')\n",
    "    \n",
    "    return newList\n",
    "\n",
    "# Will be a problem here if there are multiple trigger files\n",
    "def triggerFinder(path):\n",
    "    dirFiles = os.listdir(path)\n",
    "    \n",
    "    for file in dirFiles:\n",
    "        if 'pyt' in file:\n",
    "            trigger = file\n",
    "        \n",
    "    return trigger\n",
    "\n",
    "\n",
    "def sinkWriter(functionNameList, path):\n",
    "    baseTriggerFile = '/Users/dinobecaj/Documents/ComputerScienceMS/LyonsWork/MLRA/base_trigger.pyt'\n",
    "    sinksAdded = 0\n",
    "    \n",
    "    # Create fileText string which contains all text from original trigger file\n",
    "    fileObject = open(baseTriggerFile, 'r') \n",
    "    fileText = fileObject.read()\n",
    "    fileObject.close()\n",
    "    \n",
    "    # Edit fileText by adding new sinks\n",
    "    startIndex = fileText.find('sinks')\n",
    "    startIndex = startIndex + 10 # We do this because .find() puts us at the index where \"s\" in \"sinks\" is located\n",
    "    \n",
    "    stringOne = fileText[0:startIndex]\n",
    "    stringTwo = fileText[startIndex:-1]\n",
    "    \n",
    "    for func in functionNameList:\n",
    "        if func not in fileText:\n",
    "            stringTwo = '        \\\"' + func + '\\\": {},\\n' + stringTwo\n",
    "            sinksAdded += 1\n",
    "        else:\n",
    "            continue\n",
    "    # Write edited fileText to original trigger file\n",
    "    \n",
    "    stringThree = stringOne + stringTwo\n",
    "    \n",
    "    if sinksAdded == 0:\n",
    "        return fileText\n",
    "    else:\n",
    "        return stringThree\n",
    "\n",
    "# create a function that searches through python files for mentions of the sink\n",
    "# Recursive function that does the same thing at all levels of the recursion\n",
    "def sinkSearcher(functionNameList, fileList):\n",
    "    filesContainingFunc = []\n",
    "    #trigger = '/Users/dinobecaj/Documents/ComputerScienceMS/LyonsWork/MLRA/base_trigger.pyt'\n",
    "    \n",
    "    for file in fileList:\n",
    "        fileObject = open(file, 'r')\n",
    "        fileText = fileObject.read()\n",
    "        fileObject.close()\n",
    "        \n",
    "        for func in functionNameList:\n",
    "            if func in fileText:\n",
    "                filesContainingFunc.append(file)\n",
    "                break\n",
    "    \n",
    "    return filesContainingFunc\n",
    "\n",
    "\n",
    "# generates a list of python files within the program and \n",
    "def findFuncUsages(functionNameList, pythonFileList):\n",
    "    filesContainingFunc = []\n",
    "    \n",
    "    for file in pythonFileList:\n",
    "        fileObject = open(file, 'r')\n",
    "        fileText = fileObject.read()\n",
    "        fileObject.close()\n",
    "        \n",
    "        for func in functionNameList:\n",
    "            if func in fileText:\n",
    "                filesContainingFunc.append(file)\n",
    "                break\n",
    "    return filesContainingFunc\n",
    "    "
   ]
  },
  {
   "cell_type": "code",
   "execution_count": 101,
   "metadata": {},
   "outputs": [
    {
     "name": "stdout",
     "output_type": "stream",
     "text": [
      "['/Users/dinobecaj/MakePytorchPlusPlus/Add.py', '/Users/dinobecaj/MakePytorchPlusPlus/__init__.py', '/Users/dinobecaj/MakePytorchPlusPlus/setup.py', '/Users/dinobecaj/MakePytorchPlusPlus/example.py']\n"
     ]
    }
   ],
   "source": [
    "pythonFiles = findFilesByExt('/Users/dinobecaj/MakePytorchPlusPlus', 'py')\n",
    "print(pythonFiles)\n",
    "#pythonFiles = findFilesByExt(sys.argv[1], 'py')"
   ]
  },
  {
   "cell_type": "code",
   "execution_count": 102,
   "metadata": {},
   "outputs": [],
   "source": [
    "# this trigger file is used while scanning any repository. An updated trigger file will be created and placed\n",
    "# in the repository being analyzed along with the csv.\n",
    "baseTriggerFile = '/Users/dinobecaj/Documents/ComputerScienceMS/LyonsWork/MLRA/base_trigger.pyt'"
   ]
  },
  {
   "cell_type": "code",
   "execution_count": 103,
   "metadata": {},
   "outputs": [
    {
     "name": "stdout",
     "output_type": "stream",
     "text": [
      "['/Users/dinobecaj/MakePytorchPlusPlus/pybind/bind.cpp', '/Users/dinobecaj/MakePytorchPlusPlus/src/foo.cpp', '/Users/dinobecaj/MakePytorchPlusPlus/src/add.cpp']\n",
      "['AddGPU(']\n"
     ]
    }
   ],
   "source": [
    "cppFiles = findFilesByExt('/Users/dinobecaj/MakePytorchPlusPlus', 'cpp')\n",
    "print(cppFiles)\n",
    "functionList = functionFinder(cppFiles)\n",
    "print(functionList)"
   ]
  },
  {
   "cell_type": "code",
   "execution_count": 104,
   "metadata": {},
   "outputs": [],
   "source": [
    "newTriggerText = sinkWriter(functionList, '/Users/dinobecaj/MakePytorchPlusPlus/')\n",
    "newTriggerFile = baseTriggerFile = '/Users/dinobecaj/MakePytorchPlusPlus/' +'new_base_trigger.pyt'\n",
    "#newTriggerText = sinkWriter(functionList, sys.argv[1])\n",
    "#newTriggerFile = baseTriggerFile = sys.argv[1] +'new_base_trigger.pyt'\n",
    "\n",
    "f = open(newTriggerFile, 'w')\n",
    "f.write(newTriggerText)\n",
    "f.close()"
   ]
  },
  {
   "cell_type": "code",
   "execution_count": 105,
   "metadata": {},
   "outputs": [
    {
     "name": "stdout",
     "output_type": "stream",
     "text": [
      "['/Users/dinobecaj/MakePytorchPlusPlus/Add.py']\n"
     ]
    }
   ],
   "source": [
    "filesWithFuncUsages = findFuncUsages(functionList, pythonFiles)\n",
    "print(filesWithFuncUsages)"
   ]
  },
  {
   "cell_type": "code",
   "execution_count": 108,
   "metadata": {},
   "outputs": [
    {
     "name": "stdout",
     "output_type": "stream",
     "text": [
      "Executing: python3 -m pyt -t /Users/dinobecaj/MakePytorchPlusPlus/new_base_trigger.pyt /Users/dinobecaj/MakePytorchPlusPlus/Add.py\n",
      "\n"
     ]
    }
   ],
   "source": [
    "# this for loop runs pyt on all python files containing cpp function calls\n",
    "for file in filesWithFuncUsages:\n",
    "    print('Executing: ' + 'python3 -m pyt -t ' + baseTriggerFile + ' ' + file)\n",
    "    print()\n",
    "    os.system('python3 -m pyt -t ' + baseTriggerFile + ' ' + file)"
   ]
  },
  {
   "cell_type": "code",
   "execution_count": null,
   "metadata": {},
   "outputs": [],
   "source": []
  },
  {
   "cell_type": "code",
   "execution_count": null,
   "metadata": {},
   "outputs": [],
   "source": []
  }
 ],
 "metadata": {
  "kernelspec": {
   "display_name": "Python 3",
   "language": "python",
   "name": "python3"
  },
  "language_info": {
   "codemirror_mode": {
    "name": "ipython",
    "version": 3
   },
   "file_extension": ".py",
   "mimetype": "text/x-python",
   "name": "python",
   "nbconvert_exporter": "python",
   "pygments_lexer": "ipython3",
   "version": "3.7.4"
  }
 },
 "nbformat": 4,
 "nbformat_minor": 2
}
